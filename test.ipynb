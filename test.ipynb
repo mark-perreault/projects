{
 "cells": [
  {
   "cell_type": "code",
   "execution_count": 1,
   "metadata": {},
   "outputs": [],
   "source": [
    "import pandas as pd\n",
    "import openpyxl\n",
    "from openpyxl.styles import PatternFill"
   ]
  },
  {
   "cell_type": "code",
   "execution_count": 19,
   "metadata": {},
   "outputs": [],
   "source": [
    "import pandas as pd\n",
    "import openpyxl\n",
    "from openpyxl.styles import PatternFill\n",
    "\n",
    "def compare_sheets(file1, file2, result_file):\n",
    "    # Load the workbooks into pandas dataframes\n",
    "    df1 = pd.read_excel(file1)\n",
    "    df2 = pd.read_excel(file2)\n",
    "\n",
    "    # Add row numbers to each dataframe\n",
    "    df1['Row_Number_file1'] = df1.index + 1\n",
    "    df2['Row_Number_file2'] = df2.index + 1\n",
    "\n",
    "    # Perform a full outer join on the 'Product' column\n",
    "    merged_df = pd.merge(df1, df2, on='Product', how='outer', suffixes=('_file1', '_file2'))\n",
    "\n",
    "    # Create a new workbook for the result\n",
    "    result_wb = openpyxl.Workbook()\n",
    "    result_ws = result_wb.active\n",
    "    result_ws.title = \"Comparison Result\"\n",
    "\n",
    "    # Add a new sheet for the change log\n",
    "    change_log_ws = result_wb.create_sheet(title=\"Change Log\")\n",
    "\n",
    "    # Define fill styles for differences and missing rows\n",
    "    diff_fill = PatternFill(start_color=\"FFFF00\", end_color=\"FFFF00\", fill_type=\"solid\")\n",
    "    missing_fill = PatternFill(start_color=\"FF0000\", end_color=\"FF0000\", fill_type=\"solid\")\n",
    "\n",
    "    # Write the headers for the comparison result sheet\n",
    "    result_ws.append([\"Product\", \"Color\", \"Row_Number\"])\n",
    "\n",
    "    # Write the headers for the change log sheet\n",
    "    change_log_ws.append([\"Product\", \"Old Value\", \"New Value\"])\n",
    "\n",
    "    # Compare rows and handle missing rows\n",
    "    for index, row in merged_df.iterrows():\n",
    "        product = row['Product']\n",
    "        color_file1 = row['Color_file1'] if pd.notna(row['Color_file1']) else ''\n",
    "        color_file2 = row['Color_file2'] if pd.notna(row['Color_file2']) else ''\n",
    "        row_num_file1 = int(row['Row_Number_file1']) if pd.notna(row['Row_Number_file1']) else 'MISSING'\n",
    "        row_num_file2 = int(row['Row_Number_file2']) if pd.notna(row['Row_Number_file2']) else 'MISSING'\n",
    "\n",
    "        # Create the comparison results\n",
    "        if color_file1 != color_file2:\n",
    "            color_result = f\"{color_file1} | {color_file2}\"\n",
    "            change_log_ws.append([product, color_file1, color_file2])\n",
    "        else:\n",
    "            color_result = color_file1\n",
    "\n",
    "        if row_num_file1 != row_num_file2:\n",
    "            row_num_result = f\"{row_num_file1} | {row_num_file2}\"\n",
    "            change_log_ws.append([product, row_num_file1, row_num_file2])\n",
    "        else:\n",
    "            row_num_result = row_num_file1\n",
    "\n",
    "        # Append the result to the worksheet\n",
    "        result_ws.append([product, color_result, row_num_result])\n",
    "\n",
    "        # Highlight differences and missing rows\n",
    "        result_color_cell = result_ws.cell(row=index + 2, column=2)\n",
    "        if color_file1 != color_file2:\n",
    "            result_color_cell.fill = diff_fill\n",
    "\n",
    "        result_row_num_cell = result_ws.cell(row=index + 2, column=3)\n",
    "        if row_num_file1 == 'MISSING' or row_num_file2 == 'MISSING':\n",
    "            result_row_num_cell.fill = missing_fill\n",
    "        elif row_num_file1 != row_num_file2:\n",
    "            result_row_num_cell.fill = diff_fill\n",
    "\n",
    "    # Save the result workbook\n",
    "    result_wb.save(result_file)\n",
    "    print(f\"Comparison complete. Results saved to {result_file}\")\n",
    "\n"
   ]
  },
  {
   "cell_type": "code",
   "execution_count": 20,
   "metadata": {},
   "outputs": [
    {
     "name": "stdout",
     "output_type": "stream",
     "text": [
      "Comparison complete. Results saved to ./tests/output5.xlsx\n"
     ]
    }
   ],
   "source": [
    "# Define file paths\n",
    "file1 = \"./tests/file1.xlsx\"\n",
    "file2 = \"./tests/file2.xlsx\"\n",
    "key = \"Product\"\n",
    "result_file = \"./tests/output5.xlsx\"\n",
    "\n",
    "# Run the comparison\n",
    "compare_sheets(file1, file2, result_file)\n"
   ]
  },
  {
   "cell_type": "code",
   "execution_count": null,
   "metadata": {},
   "outputs": [],
   "source": []
  }
 ],
 "metadata": {
  "kernelspec": {
   "display_name": "venv",
   "language": "python",
   "name": "python3"
  },
  "language_info": {
   "codemirror_mode": {
    "name": "ipython",
    "version": 3
   },
   "file_extension": ".py",
   "mimetype": "text/x-python",
   "name": "python",
   "nbconvert_exporter": "python",
   "pygments_lexer": "ipython3",
   "version": "3.11.6"
  }
 },
 "nbformat": 4,
 "nbformat_minor": 2
}
